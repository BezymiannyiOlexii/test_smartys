{
  "nbformat": 4,
  "nbformat_minor": 0,
  "metadata": {
    "colab": {
      "name": "test_smartys.ipynb",
      "provenance": [],
      "authorship_tag": "ABX9TyOJnccn9T2Tbd0ovOldoDDm",
      "include_colab_link": true
    },
    "kernelspec": {
      "name": "python3",
      "display_name": "Python 3"
    },
    "language_info": {
      "name": "python"
    }
  },
  "cells": [
    {
      "cell_type": "markdown",
      "metadata": {
        "id": "view-in-github",
        "colab_type": "text"
      },
      "source": [
        "<a href=\"https://colab.research.google.com/github/BezymiannyiOlexii/test_smartys/blob/main/test_smartys.ipynb\" target=\"_parent\"><img src=\"https://colab.research.google.com/assets/colab-badge.svg\" alt=\"Open In Colab\"/></a>"
      ]
    },
    {
      "cell_type": "code",
      "execution_count": 25,
      "metadata": {
        "id": "MEq40scURkRM"
      },
      "outputs": [],
      "source": [
        "import pandas as pd\n",
        "from scipy.spatial.distance import cosine\n",
        "import numpy as np\n",
        "from sklearn.svm import SVC"
      ]
    },
    {
      "cell_type": "markdown",
      "source": [
        "# det data from GDisk"
      ],
      "metadata": {
        "id": "cntdqoZUWI5l"
      }
    },
    {
      "cell_type": "code",
      "source": [
        "!pip install PyDrive"
      ],
      "metadata": {
        "id": "fBKGcFUUc1fX"
      },
      "execution_count": null,
      "outputs": []
    },
    {
      "cell_type": "code",
      "source": [
        "from pydrive.auth import GoogleAuth\n",
        "from pydrive.drive import GoogleDrive\n",
        "from google.colab import auth\n",
        "from oauth2client.client import GoogleCredentials"
      ],
      "metadata": {
        "id": "b996o8a0c3jG"
      },
      "execution_count": 3,
      "outputs": []
    },
    {
      "cell_type": "code",
      "source": [
        "auth.authenticate_user()\n",
        "gauth = GoogleAuth()\n",
        "gauth.credentials = GoogleCredentials.get_application_default()\n",
        "drive = GoogleDrive(gauth)"
      ],
      "metadata": {
        "id": "Y4dZzEwec6wk"
      },
      "execution_count": 4,
      "outputs": []
    },
    {
      "cell_type": "code",
      "source": [
        "downloaded = drive.CreateFile({'id':\"19fiBFAsRKzoxuTn_dRY1zRPbdl6qbecr\"})\n",
        "downloaded.GetContentFile('test.tsv')\n",
        "downloaded = drive.CreateFile({'id':\"1b7AY_ULK3e59ywEJmHn-gX9E0T5Wn4EF\"})\n",
        "downloaded.GetContentFile('train.tsv')  "
      ],
      "metadata": {
        "id": "cIp8KTypdIbR"
      },
      "execution_count": 5,
      "outputs": []
    },
    {
      "cell_type": "code",
      "source": [
        "!rm /content/adc.json"
      ],
      "metadata": {
        "id": "QxdlakDZWMmh"
      },
      "execution_count": 6,
      "outputs": []
    },
    {
      "cell_type": "markdown",
      "source": [
        "# parsing data"
      ],
      "metadata": {
        "id": "Q16xLBvYb4LJ"
      }
    },
    {
      "cell_type": "code",
      "source": [
        "df_test = pd.read_csv('test.tsv', header=0, sep='\\t')\n",
        "df_train = pd.read_csv('train.tsv', header=0, sep='\\t')"
      ],
      "metadata": {
        "id": "_N0ANoA2RqJt"
      },
      "execution_count": 7,
      "outputs": []
    },
    {
      "cell_type": "code",
      "source": [
        "print(f'size of train ds is : {df_train.shape[0]}, size of test ds is : {df_test.shape[0]}')"
      ],
      "metadata": {
        "colab": {
          "base_uri": "https://localhost:8080/"
        },
        "id": "2h0KdQ0griuz",
        "outputId": "9bbc1805-a953-4a7a-fdb9-d2540096f4e7"
      },
      "execution_count": 8,
      "outputs": [
        {
          "output_type": "stream",
          "name": "stdout",
          "text": [
            "size of train ds is : 15585, size of test ds is : 1949\n"
          ]
        }
      ]
    },
    {
      "cell_type": "code",
      "source": [
        "df_train.head()"
      ],
      "metadata": {
        "colab": {
          "base_uri": "https://localhost:8080/",
          "height": 206
        },
        "id": "dsSG-Jf5SSnA",
        "outputId": "c38a3d1b-2c8d-4e6d-efeb-3b3c0a40a5ea"
      },
      "execution_count": 9,
      "outputs": [
        {
          "output_type": "execute_result",
          "data": {
            "text/html": [
              "\n",
              "  <div id=\"df-d7e8a9b7-91dc-42d9-b6f9-da7c0a2eb0be\">\n",
              "    <div class=\"colab-df-container\">\n",
              "      <div>\n",
              "<style scoped>\n",
              "    .dataframe tbody tr th:only-of-type {\n",
              "        vertical-align: middle;\n",
              "    }\n",
              "\n",
              "    .dataframe tbody tr th {\n",
              "        vertical-align: top;\n",
              "    }\n",
              "\n",
              "    .dataframe thead th {\n",
              "        text-align: right;\n",
              "    }\n",
              "</style>\n",
              "<table border=\"1\" class=\"dataframe\">\n",
              "  <thead>\n",
              "    <tr style=\"text-align: right;\">\n",
              "      <th></th>\n",
              "      <th>embedding_x</th>\n",
              "      <th>embedding_y</th>\n",
              "      <th>equal</th>\n",
              "    </tr>\n",
              "  </thead>\n",
              "  <tbody>\n",
              "    <tr>\n",
              "      <th>0</th>\n",
              "      <td>0.35198048,0.23884374,0.20589112,0.033522803,0...</td>\n",
              "      <td>0.124149986,0.14133812,0.16054663,0.38359353,0...</td>\n",
              "      <td>1</td>\n",
              "    </tr>\n",
              "    <tr>\n",
              "      <th>1</th>\n",
              "      <td>0.3492841,-0.18005244,0.46332806,-0.2122336,0....</td>\n",
              "      <td>-0.7460901,-0.21427503,-0.14653064,-0.22343078...</td>\n",
              "      <td>0</td>\n",
              "    </tr>\n",
              "    <tr>\n",
              "      <th>2</th>\n",
              "      <td>0.5642844,-0.08399645,-0.018092873,0.18461637,...</td>\n",
              "      <td>-0.30552676,0.10498648,0.40437204,0.25560898,-...</td>\n",
              "      <td>0</td>\n",
              "    </tr>\n",
              "    <tr>\n",
              "      <th>3</th>\n",
              "      <td>0.36132073,-0.20658037,0.4909494,0.12876663,0....</td>\n",
              "      <td>0.25936005,-0.15755327,0.4929783,-0.11315008,0...</td>\n",
              "      <td>1</td>\n",
              "    </tr>\n",
              "    <tr>\n",
              "      <th>4</th>\n",
              "      <td>-0.039740197,-0.11732757,-0.07907649,0.1649697...</td>\n",
              "      <td>0.26061502,-0.31516105,-0.04165541,0.16747917,...</td>\n",
              "      <td>1</td>\n",
              "    </tr>\n",
              "  </tbody>\n",
              "</table>\n",
              "</div>\n",
              "      <button class=\"colab-df-convert\" onclick=\"convertToInteractive('df-d7e8a9b7-91dc-42d9-b6f9-da7c0a2eb0be')\"\n",
              "              title=\"Convert this dataframe to an interactive table.\"\n",
              "              style=\"display:none;\">\n",
              "        \n",
              "  <svg xmlns=\"http://www.w3.org/2000/svg\" height=\"24px\"viewBox=\"0 0 24 24\"\n",
              "       width=\"24px\">\n",
              "    <path d=\"M0 0h24v24H0V0z\" fill=\"none\"/>\n",
              "    <path d=\"M18.56 5.44l.94 2.06.94-2.06 2.06-.94-2.06-.94-.94-2.06-.94 2.06-2.06.94zm-11 1L8.5 8.5l.94-2.06 2.06-.94-2.06-.94L8.5 2.5l-.94 2.06-2.06.94zm10 10l.94 2.06.94-2.06 2.06-.94-2.06-.94-.94-2.06-.94 2.06-2.06.94z\"/><path d=\"M17.41 7.96l-1.37-1.37c-.4-.4-.92-.59-1.43-.59-.52 0-1.04.2-1.43.59L10.3 9.45l-7.72 7.72c-.78.78-.78 2.05 0 2.83L4 21.41c.39.39.9.59 1.41.59.51 0 1.02-.2 1.41-.59l7.78-7.78 2.81-2.81c.8-.78.8-2.07 0-2.86zM5.41 20L4 18.59l7.72-7.72 1.47 1.35L5.41 20z\"/>\n",
              "  </svg>\n",
              "      </button>\n",
              "      \n",
              "  <style>\n",
              "    .colab-df-container {\n",
              "      display:flex;\n",
              "      flex-wrap:wrap;\n",
              "      gap: 12px;\n",
              "    }\n",
              "\n",
              "    .colab-df-convert {\n",
              "      background-color: #E8F0FE;\n",
              "      border: none;\n",
              "      border-radius: 50%;\n",
              "      cursor: pointer;\n",
              "      display: none;\n",
              "      fill: #1967D2;\n",
              "      height: 32px;\n",
              "      padding: 0 0 0 0;\n",
              "      width: 32px;\n",
              "    }\n",
              "\n",
              "    .colab-df-convert:hover {\n",
              "      background-color: #E2EBFA;\n",
              "      box-shadow: 0px 1px 2px rgba(60, 64, 67, 0.3), 0px 1px 3px 1px rgba(60, 64, 67, 0.15);\n",
              "      fill: #174EA6;\n",
              "    }\n",
              "\n",
              "    [theme=dark] .colab-df-convert {\n",
              "      background-color: #3B4455;\n",
              "      fill: #D2E3FC;\n",
              "    }\n",
              "\n",
              "    [theme=dark] .colab-df-convert:hover {\n",
              "      background-color: #434B5C;\n",
              "      box-shadow: 0px 1px 3px 1px rgba(0, 0, 0, 0.15);\n",
              "      filter: drop-shadow(0px 1px 2px rgba(0, 0, 0, 0.3));\n",
              "      fill: #FFFFFF;\n",
              "    }\n",
              "  </style>\n",
              "\n",
              "      <script>\n",
              "        const buttonEl =\n",
              "          document.querySelector('#df-d7e8a9b7-91dc-42d9-b6f9-da7c0a2eb0be button.colab-df-convert');\n",
              "        buttonEl.style.display =\n",
              "          google.colab.kernel.accessAllowed ? 'block' : 'none';\n",
              "\n",
              "        async function convertToInteractive(key) {\n",
              "          const element = document.querySelector('#df-d7e8a9b7-91dc-42d9-b6f9-da7c0a2eb0be');\n",
              "          const dataTable =\n",
              "            await google.colab.kernel.invokeFunction('convertToInteractive',\n",
              "                                                     [key], {});\n",
              "          if (!dataTable) return;\n",
              "\n",
              "          const docLinkHtml = 'Like what you see? Visit the ' +\n",
              "            '<a target=\"_blank\" href=https://colab.research.google.com/notebooks/data_table.ipynb>data table notebook</a>'\n",
              "            + ' to learn more about interactive tables.';\n",
              "          element.innerHTML = '';\n",
              "          dataTable['output_type'] = 'display_data';\n",
              "          await google.colab.output.renderOutput(dataTable, element);\n",
              "          const docLink = document.createElement('div');\n",
              "          docLink.innerHTML = docLinkHtml;\n",
              "          element.appendChild(docLink);\n",
              "        }\n",
              "      </script>\n",
              "    </div>\n",
              "  </div>\n",
              "  "
            ],
            "text/plain": [
              "                                         embedding_x  ... equal\n",
              "0  0.35198048,0.23884374,0.20589112,0.033522803,0...  ...     1\n",
              "1  0.3492841,-0.18005244,0.46332806,-0.2122336,0....  ...     0\n",
              "2  0.5642844,-0.08399645,-0.018092873,0.18461637,...  ...     0\n",
              "3  0.36132073,-0.20658037,0.4909494,0.12876663,0....  ...     1\n",
              "4  -0.039740197,-0.11732757,-0.07907649,0.1649697...  ...     1\n",
              "\n",
              "[5 rows x 3 columns]"
            ]
          },
          "metadata": {},
          "execution_count": 9
        }
      ]
    },
    {
      "cell_type": "code",
      "source": [
        "#parsing data by converting str to list of float numbers\n",
        "for df in (df_test, df_train):\n",
        "  for column_name in df.columns.values.tolist()[:2]:\n",
        "    for index in range(df.shape[0]):\n",
        "      df[column_name][index] = [float(numb) for numb in df[column_name][index].split(',')]"
      ],
      "metadata": {
        "colab": {
          "base_uri": "https://localhost:8080/"
        },
        "id": "aOZksnUfVSa7",
        "outputId": "fc19d656-e730-4588-fd2f-bd10b17048ea"
      },
      "execution_count": 10,
      "outputs": [
        {
          "output_type": "stream",
          "name": "stderr",
          "text": [
            "/usr/local/lib/python3.7/dist-packages/ipykernel_launcher.py:5: SettingWithCopyWarning: \n",
            "A value is trying to be set on a copy of a slice from a DataFrame\n",
            "\n",
            "See the caveats in the documentation: https://pandas.pydata.org/pandas-docs/stable/user_guide/indexing.html#returning-a-view-versus-a-copy\n",
            "  \"\"\"\n"
          ]
        }
      ]
    },
    {
      "cell_type": "markdown",
      "source": [
        "# cosine"
      ],
      "metadata": {
        "id": "YComVW_637AH"
      }
    },
    {
      "cell_type": "markdown",
      "source": [
        "The data is normalized, therefore dot product and cosine_similarity is equal. Pearson correlation is cosine similarity between centered vectors (standart normilezed) thats why differnce between this metricts won't be statistically significant)"
      ],
      "metadata": {
        "id": "xuBv75Nk453P"
      }
    },
    {
      "cell_type": "code",
      "source": [
        "def add_cosine_column(df):\n",
        "  cosine_lst = []\n",
        "  for index in range(df.shape[0]):\n",
        "    similarity = 1. - cosine(df.loc[index, 'embedding_x'],\n",
        "                                  df.loc[index, 'embedding_y'])\n",
        "    cosine_lst.append(similarity)\n",
        "  df['cosine'] = cosine_lst"
      ],
      "metadata": {
        "id": "Xn09gNgY1H5K"
      },
      "execution_count": 11,
      "outputs": []
    },
    {
      "cell_type": "code",
      "source": [
        "add_cosine_column(df_train)"
      ],
      "metadata": {
        "id": "pH1qK3AE2l4K"
      },
      "execution_count": 12,
      "outputs": []
    },
    {
      "cell_type": "code",
      "source": [
        "df_train.head(5)"
      ],
      "metadata": {
        "colab": {
          "base_uri": "https://localhost:8080/",
          "height": 206
        },
        "id": "iTW0Nfh72rQO",
        "outputId": "ea029512-663c-4216-f032-4558cef9036e"
      },
      "execution_count": 13,
      "outputs": [
        {
          "output_type": "execute_result",
          "data": {
            "text/html": [
              "\n",
              "  <div id=\"df-cadc7499-37be-4b84-a203-f8d432767fb6\">\n",
              "    <div class=\"colab-df-container\">\n",
              "      <div>\n",
              "<style scoped>\n",
              "    .dataframe tbody tr th:only-of-type {\n",
              "        vertical-align: middle;\n",
              "    }\n",
              "\n",
              "    .dataframe tbody tr th {\n",
              "        vertical-align: top;\n",
              "    }\n",
              "\n",
              "    .dataframe thead th {\n",
              "        text-align: right;\n",
              "    }\n",
              "</style>\n",
              "<table border=\"1\" class=\"dataframe\">\n",
              "  <thead>\n",
              "    <tr style=\"text-align: right;\">\n",
              "      <th></th>\n",
              "      <th>embedding_x</th>\n",
              "      <th>embedding_y</th>\n",
              "      <th>equal</th>\n",
              "      <th>cosine</th>\n",
              "    </tr>\n",
              "  </thead>\n",
              "  <tbody>\n",
              "    <tr>\n",
              "      <th>0</th>\n",
              "      <td>[0.35198048, 0.23884374, 0.20589112, 0.0335228...</td>\n",
              "      <td>[0.124149986, 0.14133812, 0.16054663, 0.383593...</td>\n",
              "      <td>1</td>\n",
              "      <td>0.557235</td>\n",
              "    </tr>\n",
              "    <tr>\n",
              "      <th>1</th>\n",
              "      <td>[0.3492841, -0.18005244, 0.46332806, -0.212233...</td>\n",
              "      <td>[-0.7460901, -0.21427503, -0.14653064, -0.2234...</td>\n",
              "      <td>0</td>\n",
              "      <td>-0.327108</td>\n",
              "    </tr>\n",
              "    <tr>\n",
              "      <th>2</th>\n",
              "      <td>[0.5642844, -0.08399645, -0.018092873, 0.18461...</td>\n",
              "      <td>[-0.30552676, 0.10498648, 0.40437204, 0.255608...</td>\n",
              "      <td>0</td>\n",
              "      <td>-0.278190</td>\n",
              "    </tr>\n",
              "    <tr>\n",
              "      <th>3</th>\n",
              "      <td>[0.36132073, -0.20658037, 0.4909494, 0.1287666...</td>\n",
              "      <td>[0.25936005, -0.15755327, 0.4929783, -0.113150...</td>\n",
              "      <td>1</td>\n",
              "      <td>0.772270</td>\n",
              "    </tr>\n",
              "    <tr>\n",
              "      <th>4</th>\n",
              "      <td>[-0.039740197, -0.11732757, -0.07907649, 0.164...</td>\n",
              "      <td>[0.26061502, -0.31516105, -0.04165541, 0.16747...</td>\n",
              "      <td>1</td>\n",
              "      <td>0.445477</td>\n",
              "    </tr>\n",
              "  </tbody>\n",
              "</table>\n",
              "</div>\n",
              "      <button class=\"colab-df-convert\" onclick=\"convertToInteractive('df-cadc7499-37be-4b84-a203-f8d432767fb6')\"\n",
              "              title=\"Convert this dataframe to an interactive table.\"\n",
              "              style=\"display:none;\">\n",
              "        \n",
              "  <svg xmlns=\"http://www.w3.org/2000/svg\" height=\"24px\"viewBox=\"0 0 24 24\"\n",
              "       width=\"24px\">\n",
              "    <path d=\"M0 0h24v24H0V0z\" fill=\"none\"/>\n",
              "    <path d=\"M18.56 5.44l.94 2.06.94-2.06 2.06-.94-2.06-.94-.94-2.06-.94 2.06-2.06.94zm-11 1L8.5 8.5l.94-2.06 2.06-.94-2.06-.94L8.5 2.5l-.94 2.06-2.06.94zm10 10l.94 2.06.94-2.06 2.06-.94-2.06-.94-.94-2.06-.94 2.06-2.06.94z\"/><path d=\"M17.41 7.96l-1.37-1.37c-.4-.4-.92-.59-1.43-.59-.52 0-1.04.2-1.43.59L10.3 9.45l-7.72 7.72c-.78.78-.78 2.05 0 2.83L4 21.41c.39.39.9.59 1.41.59.51 0 1.02-.2 1.41-.59l7.78-7.78 2.81-2.81c.8-.78.8-2.07 0-2.86zM5.41 20L4 18.59l7.72-7.72 1.47 1.35L5.41 20z\"/>\n",
              "  </svg>\n",
              "      </button>\n",
              "      \n",
              "  <style>\n",
              "    .colab-df-container {\n",
              "      display:flex;\n",
              "      flex-wrap:wrap;\n",
              "      gap: 12px;\n",
              "    }\n",
              "\n",
              "    .colab-df-convert {\n",
              "      background-color: #E8F0FE;\n",
              "      border: none;\n",
              "      border-radius: 50%;\n",
              "      cursor: pointer;\n",
              "      display: none;\n",
              "      fill: #1967D2;\n",
              "      height: 32px;\n",
              "      padding: 0 0 0 0;\n",
              "      width: 32px;\n",
              "    }\n",
              "\n",
              "    .colab-df-convert:hover {\n",
              "      background-color: #E2EBFA;\n",
              "      box-shadow: 0px 1px 2px rgba(60, 64, 67, 0.3), 0px 1px 3px 1px rgba(60, 64, 67, 0.15);\n",
              "      fill: #174EA6;\n",
              "    }\n",
              "\n",
              "    [theme=dark] .colab-df-convert {\n",
              "      background-color: #3B4455;\n",
              "      fill: #D2E3FC;\n",
              "    }\n",
              "\n",
              "    [theme=dark] .colab-df-convert:hover {\n",
              "      background-color: #434B5C;\n",
              "      box-shadow: 0px 1px 3px 1px rgba(0, 0, 0, 0.15);\n",
              "      filter: drop-shadow(0px 1px 2px rgba(0, 0, 0, 0.3));\n",
              "      fill: #FFFFFF;\n",
              "    }\n",
              "  </style>\n",
              "\n",
              "      <script>\n",
              "        const buttonEl =\n",
              "          document.querySelector('#df-cadc7499-37be-4b84-a203-f8d432767fb6 button.colab-df-convert');\n",
              "        buttonEl.style.display =\n",
              "          google.colab.kernel.accessAllowed ? 'block' : 'none';\n",
              "\n",
              "        async function convertToInteractive(key) {\n",
              "          const element = document.querySelector('#df-cadc7499-37be-4b84-a203-f8d432767fb6');\n",
              "          const dataTable =\n",
              "            await google.colab.kernel.invokeFunction('convertToInteractive',\n",
              "                                                     [key], {});\n",
              "          if (!dataTable) return;\n",
              "\n",
              "          const docLinkHtml = 'Like what you see? Visit the ' +\n",
              "            '<a target=\"_blank\" href=https://colab.research.google.com/notebooks/data_table.ipynb>data table notebook</a>'\n",
              "            + ' to learn more about interactive tables.';\n",
              "          element.innerHTML = '';\n",
              "          dataTable['output_type'] = 'display_data';\n",
              "          await google.colab.output.renderOutput(dataTable, element);\n",
              "          const docLink = document.createElement('div');\n",
              "          docLink.innerHTML = docLinkHtml;\n",
              "          element.appendChild(docLink);\n",
              "        }\n",
              "      </script>\n",
              "    </div>\n",
              "  </div>\n",
              "  "
            ],
            "text/plain": [
              "                                         embedding_x  ...    cosine\n",
              "0  [0.35198048, 0.23884374, 0.20589112, 0.0335228...  ...  0.557235\n",
              "1  [0.3492841, -0.18005244, 0.46332806, -0.212233...  ... -0.327108\n",
              "2  [0.5642844, -0.08399645, -0.018092873, 0.18461...  ... -0.278190\n",
              "3  [0.36132073, -0.20658037, 0.4909494, 0.1287666...  ...  0.772270\n",
              "4  [-0.039740197, -0.11732757, -0.07907649, 0.164...  ...  0.445477\n",
              "\n",
              "[5 rows x 4 columns]"
            ]
          },
          "metadata": {},
          "execution_count": 13
        }
      ]
    },
    {
      "cell_type": "markdown",
      "source": [
        "# classfication problem"
      ],
      "metadata": {
        "id": "aSF_p61M8eA1"
      }
    },
    {
      "cell_type": "code",
      "source": [
        "X_train = df_train.loc[:, 'cosine'].to_numpy()\n",
        "y_train = df_train.loc[:, 'equal'].to_numpy()"
      ],
      "metadata": {
        "id": "RO6vkGdiD1yj"
      },
      "execution_count": 14,
      "outputs": []
    },
    {
      "cell_type": "code",
      "source": [
        "svc_model = SVC(kernel='linear', random_state=32)\n",
        "svc_model.fit(X_train.reshape(-1,1), y_train)"
      ],
      "metadata": {
        "colab": {
          "base_uri": "https://localhost:8080/"
        },
        "id": "RJV_N8AX5pi4",
        "outputId": "cb7df8a4-0331-4001-b928-cf3b55cc4f1d"
      },
      "execution_count": 15,
      "outputs": [
        {
          "output_type": "execute_result",
          "data": {
            "text/plain": [
              "SVC(kernel='linear', random_state=32)"
            ]
          },
          "metadata": {},
          "execution_count": 15
        }
      ]
    },
    {
      "cell_type": "code",
      "source": [
        "threshold = -svc_model.intercept_[0]/svc_model.coef_[0][0]"
      ],
      "metadata": {
        "id": "EMlLoQGZG5uu"
      },
      "execution_count": 17,
      "outputs": []
    },
    {
      "cell_type": "code",
      "source": [
        "print(threshold)"
      ],
      "metadata": {
        "colab": {
          "base_uri": "https://localhost:8080/"
        },
        "id": "8lSGjjTiHKB9",
        "outputId": "fd158496-8ea9-409f-ee31-51045cce952c"
      },
      "execution_count": 20,
      "outputs": [
        {
          "output_type": "stream",
          "name": "stdout",
          "text": [
            "0.27216407871513515\n"
          ]
        }
      ]
    },
    {
      "cell_type": "markdown",
      "source": [
        "#validation"
      ],
      "metadata": {
        "id": "M_wVia-0MzNb"
      }
    },
    {
      "cell_type": "code",
      "source": [
        "add_cosine_column(df_test)"
      ],
      "metadata": {
        "id": "cj5gXQwNS3Er"
      },
      "execution_count": 18,
      "outputs": []
    },
    {
      "cell_type": "code",
      "source": [
        "df_test.head()"
      ],
      "metadata": {
        "colab": {
          "base_uri": "https://localhost:8080/",
          "height": 206
        },
        "id": "4dq0fem2SQfA",
        "outputId": "2d5affe6-1e61-4e5b-dee4-722f55f2098d"
      },
      "execution_count": 19,
      "outputs": [
        {
          "output_type": "execute_result",
          "data": {
            "text/html": [
              "\n",
              "  <div id=\"df-23b0e2c2-0e9f-4be5-9c34-d7b96ba9d291\">\n",
              "    <div class=\"colab-df-container\">\n",
              "      <div>\n",
              "<style scoped>\n",
              "    .dataframe tbody tr th:only-of-type {\n",
              "        vertical-align: middle;\n",
              "    }\n",
              "\n",
              "    .dataframe tbody tr th {\n",
              "        vertical-align: top;\n",
              "    }\n",
              "\n",
              "    .dataframe thead th {\n",
              "        text-align: right;\n",
              "    }\n",
              "</style>\n",
              "<table border=\"1\" class=\"dataframe\">\n",
              "  <thead>\n",
              "    <tr style=\"text-align: right;\">\n",
              "      <th></th>\n",
              "      <th>embedding_x</th>\n",
              "      <th>embedding_y</th>\n",
              "      <th>equal</th>\n",
              "      <th>cosine</th>\n",
              "    </tr>\n",
              "  </thead>\n",
              "  <tbody>\n",
              "    <tr>\n",
              "      <th>0</th>\n",
              "      <td>[0.297163, -0.19147852, 0.514213, 0.11966697, ...</td>\n",
              "      <td>[0.33785084, -0.16910027, -0.1574438, -0.02361...</td>\n",
              "      <td>0</td>\n",
              "      <td>0.034470</td>\n",
              "    </tr>\n",
              "    <tr>\n",
              "      <th>1</th>\n",
              "      <td>[0.28278404, -0.21183152, 0.3420205, -0.230233...</td>\n",
              "      <td>[0.297163, -0.19147852, 0.514213, 0.11966697, ...</td>\n",
              "      <td>1</td>\n",
              "      <td>0.692232</td>\n",
              "    </tr>\n",
              "    <tr>\n",
              "      <th>2</th>\n",
              "      <td>[0.50050944, -0.07608504, 0.1397811, 0.1756001...</td>\n",
              "      <td>[0.40801406, 0.10747076, 0.3100398, 0.04043074...</td>\n",
              "      <td>1</td>\n",
              "      <td>0.489577</td>\n",
              "    </tr>\n",
              "    <tr>\n",
              "      <th>3</th>\n",
              "      <td>[0.18524958, -0.23291345, 0.47159392, 0.213189...</td>\n",
              "      <td>[-0.04595025, -0.4184819, -0.3319743, -0.18005...</td>\n",
              "      <td>1</td>\n",
              "      <td>0.102176</td>\n",
              "    </tr>\n",
              "    <tr>\n",
              "      <th>4</th>\n",
              "      <td>[0.3160543, -0.12296223, 0.27941337, 0.2727139...</td>\n",
              "      <td>[0.40801406, 0.10747076, 0.3100398, 0.04043074...</td>\n",
              "      <td>1</td>\n",
              "      <td>0.448001</td>\n",
              "    </tr>\n",
              "  </tbody>\n",
              "</table>\n",
              "</div>\n",
              "      <button class=\"colab-df-convert\" onclick=\"convertToInteractive('df-23b0e2c2-0e9f-4be5-9c34-d7b96ba9d291')\"\n",
              "              title=\"Convert this dataframe to an interactive table.\"\n",
              "              style=\"display:none;\">\n",
              "        \n",
              "  <svg xmlns=\"http://www.w3.org/2000/svg\" height=\"24px\"viewBox=\"0 0 24 24\"\n",
              "       width=\"24px\">\n",
              "    <path d=\"M0 0h24v24H0V0z\" fill=\"none\"/>\n",
              "    <path d=\"M18.56 5.44l.94 2.06.94-2.06 2.06-.94-2.06-.94-.94-2.06-.94 2.06-2.06.94zm-11 1L8.5 8.5l.94-2.06 2.06-.94-2.06-.94L8.5 2.5l-.94 2.06-2.06.94zm10 10l.94 2.06.94-2.06 2.06-.94-2.06-.94-.94-2.06-.94 2.06-2.06.94z\"/><path d=\"M17.41 7.96l-1.37-1.37c-.4-.4-.92-.59-1.43-.59-.52 0-1.04.2-1.43.59L10.3 9.45l-7.72 7.72c-.78.78-.78 2.05 0 2.83L4 21.41c.39.39.9.59 1.41.59.51 0 1.02-.2 1.41-.59l7.78-7.78 2.81-2.81c.8-.78.8-2.07 0-2.86zM5.41 20L4 18.59l7.72-7.72 1.47 1.35L5.41 20z\"/>\n",
              "  </svg>\n",
              "      </button>\n",
              "      \n",
              "  <style>\n",
              "    .colab-df-container {\n",
              "      display:flex;\n",
              "      flex-wrap:wrap;\n",
              "      gap: 12px;\n",
              "    }\n",
              "\n",
              "    .colab-df-convert {\n",
              "      background-color: #E8F0FE;\n",
              "      border: none;\n",
              "      border-radius: 50%;\n",
              "      cursor: pointer;\n",
              "      display: none;\n",
              "      fill: #1967D2;\n",
              "      height: 32px;\n",
              "      padding: 0 0 0 0;\n",
              "      width: 32px;\n",
              "    }\n",
              "\n",
              "    .colab-df-convert:hover {\n",
              "      background-color: #E2EBFA;\n",
              "      box-shadow: 0px 1px 2px rgba(60, 64, 67, 0.3), 0px 1px 3px 1px rgba(60, 64, 67, 0.15);\n",
              "      fill: #174EA6;\n",
              "    }\n",
              "\n",
              "    [theme=dark] .colab-df-convert {\n",
              "      background-color: #3B4455;\n",
              "      fill: #D2E3FC;\n",
              "    }\n",
              "\n",
              "    [theme=dark] .colab-df-convert:hover {\n",
              "      background-color: #434B5C;\n",
              "      box-shadow: 0px 1px 3px 1px rgba(0, 0, 0, 0.15);\n",
              "      filter: drop-shadow(0px 1px 2px rgba(0, 0, 0, 0.3));\n",
              "      fill: #FFFFFF;\n",
              "    }\n",
              "  </style>\n",
              "\n",
              "      <script>\n",
              "        const buttonEl =\n",
              "          document.querySelector('#df-23b0e2c2-0e9f-4be5-9c34-d7b96ba9d291 button.colab-df-convert');\n",
              "        buttonEl.style.display =\n",
              "          google.colab.kernel.accessAllowed ? 'block' : 'none';\n",
              "\n",
              "        async function convertToInteractive(key) {\n",
              "          const element = document.querySelector('#df-23b0e2c2-0e9f-4be5-9c34-d7b96ba9d291');\n",
              "          const dataTable =\n",
              "            await google.colab.kernel.invokeFunction('convertToInteractive',\n",
              "                                                     [key], {});\n",
              "          if (!dataTable) return;\n",
              "\n",
              "          const docLinkHtml = 'Like what you see? Visit the ' +\n",
              "            '<a target=\"_blank\" href=https://colab.research.google.com/notebooks/data_table.ipynb>data table notebook</a>'\n",
              "            + ' to learn more about interactive tables.';\n",
              "          element.innerHTML = '';\n",
              "          dataTable['output_type'] = 'display_data';\n",
              "          await google.colab.output.renderOutput(dataTable, element);\n",
              "          const docLink = document.createElement('div');\n",
              "          docLink.innerHTML = docLinkHtml;\n",
              "          element.appendChild(docLink);\n",
              "        }\n",
              "      </script>\n",
              "    </div>\n",
              "  </div>\n",
              "  "
            ],
            "text/plain": [
              "                                         embedding_x  ...    cosine\n",
              "0  [0.297163, -0.19147852, 0.514213, 0.11966697, ...  ...  0.034470\n",
              "1  [0.28278404, -0.21183152, 0.3420205, -0.230233...  ...  0.692232\n",
              "2  [0.50050944, -0.07608504, 0.1397811, 0.1756001...  ...  0.489577\n",
              "3  [0.18524958, -0.23291345, 0.47159392, 0.213189...  ...  0.102176\n",
              "4  [0.3160543, -0.12296223, 0.27941337, 0.2727139...  ...  0.448001\n",
              "\n",
              "[5 rows x 4 columns]"
            ]
          },
          "metadata": {},
          "execution_count": 19
        }
      ]
    },
    {
      "cell_type": "code",
      "source": [
        "X_test = df_test.loc[:, 'cosine'].to_numpy()\n",
        "y_test = df_test.loc[:, 'equal'].to_numpy()"
      ],
      "metadata": {
        "id": "LDDsJoXLM1rc"
      },
      "execution_count": 20,
      "outputs": []
    },
    {
      "cell_type": "code",
      "source": [
        "y_pred = list(map(lambda x: 1 if x > threshold else 0, X_test))"
      ],
      "metadata": {
        "id": "sV6x9SWXNVB7"
      },
      "execution_count": 21,
      "outputs": []
    },
    {
      "cell_type": "code",
      "source": [
        "def validation(y_pred, y_test):\n",
        "  _is_equal_lists = [1 for i, j in zip(y_pred, y_test) if i == j]\n",
        "  accuracy = sum(_is_equal_lists)/len(y_pred)\n",
        "  return accuracy"
      ],
      "metadata": {
        "id": "IqDZpyUaO7Xl"
      },
      "execution_count": 22,
      "outputs": []
    },
    {
      "cell_type": "code",
      "source": [
        "accuracy = validation(y_pred, y_test)"
      ],
      "metadata": {
        "id": "41GaScgzRn_l"
      },
      "execution_count": 23,
      "outputs": []
    },
    {
      "cell_type": "code",
      "source": [
        "print(accuracy)"
      ],
      "metadata": {
        "colab": {
          "base_uri": "https://localhost:8080/"
        },
        "id": "7ZTYucssR6dn",
        "outputId": "4241bd22-76ad-4cc5-f8ba-888396327639"
      },
      "execution_count": 24,
      "outputs": [
        {
          "output_type": "stream",
          "name": "stdout",
          "text": [
            "0.8927655207798871\n"
          ]
        }
      ]
    }
  ]
}